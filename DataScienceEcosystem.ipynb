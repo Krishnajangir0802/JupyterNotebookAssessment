{
 "cells": [
  {
   "cell_type": "markdown",
   "id": "362fd7d8-f3b3-43af-ab7f-514bb6d3a39c",
   "metadata": {},
   "source": [
    "# Data Science Tools and Ecosystem"
   ]
  },
  {
   "cell_type": "markdown",
   "id": "e47dc1d2-4e6b-4360-9fc8-c623d07b3b5f",
   "metadata": {},
   "source": [
    "In this notebook, we will summarize Data Science Tools and Ecosystem."
   ]
  },
  {
   "cell_type": "markdown",
   "id": "317c581c-ffd4-4ee9-83e6-b1cb9b41e8e2",
   "metadata": {},
   "source": [
    "**Objectives:**\n",
    "- List popular languages of Data Science\n",
    "- List popular libraries of Data Science\n",
    "- List popular Data Science tools\n",
    "- Converting minutes to hours"
   ]
  },
  {
   "cell_type": "markdown",
   "id": "5c66b7f3-69d0-44ff-9599-5f3d70adfe91",
   "metadata": {},
   "source": [
    "Some of the popular languages that Data Scientists use are:\n",
    "1. Python\n",
    "2. R\n",
    "3. Java\n",
    "4. Julia\n",
    "5. JavaScript"
   ]
  },
  {
   "cell_type": "markdown",
   "id": "31dc1659-9230-42ad-9302-bb9bddc53364",
   "metadata": {},
   "source": [
    "Some of the commonly used libraries used by Data Scientists include:\n",
    "1. NumPy\n",
    "2. Pandas\n",
    "3. Matplotlib\n",
    "4. Seaborn\n",
    "5. Scikit-learn"
   ]
  },
  {
   "cell_type": "markdown",
   "id": "0cde95ed-aaff-4842-8abc-117d41ddec68",
   "metadata": {},
   "source": [
    "| Data Science Tools |\n",
    "|--------------------|\n",
    "| MySQL              |\n",
    "| MongoDB            |\n",
    "| RStudio            |"
   ]
  },
  {
   "cell_type": "markdown",
   "id": "f3e9b8b5-64f6-4912-831a-6d9775f1725b",
   "metadata": {},
   "source": [
    "### Below are a few examples of how arithmetic expressions are evaluated in Python"
   ]
  },
  {
   "cell_type": "code",
   "execution_count": 9,
   "id": "67a162e6-d6a2-48b2-9c01-3b8e2ebe6b44",
   "metadata": {},
   "outputs": [
    {
     "data": {
      "text/plain": [
       "17"
      ]
     },
     "execution_count": 9,
     "metadata": {},
     "output_type": "execute_result"
    }
   ],
   "source": [
    "# This a simple arithmetic expression to mutiply then add integers\n",
    "(3*4)+5"
   ]
  },
  {
   "cell_type": "code",
   "execution_count": 11,
   "id": "70e19de8-f7a9-4af1-b988-11b951a021d0",
   "metadata": {},
   "outputs": [
    {
     "data": {
      "text/plain": [
       "3.3333333333333335"
      ]
     },
     "execution_count": 11,
     "metadata": {},
     "output_type": "execute_result"
    }
   ],
   "source": [
    "# This will convert 200 minutes to hours by diving by 60\n",
    "200/60"
   ]
  },
  {
   "cell_type": "markdown",
   "id": "82ebbf2b-abbc-488e-b1b4-330d9d20659e",
   "metadata": {},
   "source": [
    "## Author\n",
    "Krishna"
   ]
  },
  {
   "cell_type": "code",
   "execution_count": null,
   "id": "930605b2-ee83-437d-8724-b1222d6b4449",
   "metadata": {},
   "outputs": [],
   "source": []
  }
 ],
 "metadata": {
  "kernelspec": {
   "display_name": "Python 3 (ipykernel)",
   "language": "python",
   "name": "python3"
  },
  "language_info": {
   "codemirror_mode": {
    "name": "ipython",
    "version": 3
   },
   "file_extension": ".py",
   "mimetype": "text/x-python",
   "name": "python",
   "nbconvert_exporter": "python",
   "pygments_lexer": "ipython3",
   "version": "3.12.7"
  }
 },
 "nbformat": 4,
 "nbformat_minor": 5
}
